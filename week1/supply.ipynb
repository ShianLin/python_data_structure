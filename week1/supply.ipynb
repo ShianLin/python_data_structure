{
 "cells": [
  {
   "cell_type": "markdown",
   "metadata": {},
   "source": [
    "# 1. 列表"
   ]
  },
  {
   "cell_type": "markdown",
   "metadata": {},
   "source": [
    "## 1.1. 数据收纳盒"
   ]
  },
  {
   "cell_type": "markdown",
   "metadata": {},
   "source": [
    "* 在内存中用来装数据对象\n",
    "* 列表可以删除添加替换重拍序列中的元素（这做修改操作的叫可变类型）\n",
    "* 元组不能再更新，叫不可变序列。为了更高的处理性能"
   ]
  },
  {
   "cell_type": "markdown",
   "metadata": {},
   "source": [
    "## 1.2. 创建列表"
   ]
  },
  {
   "cell_type": "code",
   "execution_count": 1,
   "metadata": {},
   "outputs": [],
   "source": [
    "l1 = []\n",
    "l2 = list()"
   ]
  },
  {
   "cell_type": "markdown",
   "metadata": {},
   "source": [
    "操作有：\n",
    "* append\n",
    "* insert\n",
    "* extend【拼接，改变原来的列表，而加号不改变】\n",
    "* pop\n",
    "* remove\n",
    "* clear\n",
    "* reverse/reversed【后者得到新排的，不影响原来的】\n",
    "* sort/sorted【后者得到新排的，不影响原来的】"
   ]
  },
  {
   "cell_type": "markdown",
   "metadata": {},
   "source": [
    "## 1.3. 创建元组"
   ]
  },
  {
   "cell_type": "code",
   "execution_count": 2,
   "metadata": {},
   "outputs": [],
   "source": [
    "t1 = ()\n",
    "t2 = tuple()"
   ]
  },
  {
   "cell_type": "markdown",
   "metadata": {},
   "source": [
    "## 1.4. 共同特征\n",
    "* 列表或原则的各个数据被称作元素，没有类型限制\n",
    "* 下标从零开始，是连续的\n",
    "* 加法与乘法运算\n",
    "* len()\n",
    "* 索引alis[n]或atuple[n]。得到的结果可以当作名字放在赋值语句的左边使用【元组不能重新赋值】，当然也可以放右边。\n",
    "* 切片alist[start:end:step]；atuple[star:end:step]\n",
    "* in\n",
    "* index\n",
    "* count\n",
    "* sum\n",
    "* min/max"
   ]
  },
  {
   "cell_type": "markdown",
   "metadata": {},
   "source": [
    "# 2. 字典"
   ]
  },
  {
   "cell_type": "markdown",
   "metadata": {},
   "source": [
    "* 字典是贴标签的数据。通过标签或关键字来索引数据，区别列表或元组通过连续整数来索引。\n",
    "* 是可变类型，可以添加删除或者替换"
   ]
  },
  {
   "cell_type": "markdown",
   "metadata": {},
   "source": [
    "* 标签key和数据值value的对的集合称为字典。"
   ]
  },
  {
   "cell_type": "markdown",
   "metadata": {},
   "source": [
    "## 2.1. 创建字典"
   ]
  },
  {
   "cell_type": "code",
   "execution_count": 1,
   "metadata": {},
   "outputs": [],
   "source": [
    "student = {}\n",
    "student = dict()"
   ]
  },
  {
   "cell_type": "markdown",
   "metadata": {},
   "source": [
    "数据项（item）\n",
    "* 包括key和value，用冒号连接"
   ]
  },
  {
   "cell_type": "code",
   "execution_count": 8,
   "metadata": {},
   "outputs": [
    {
     "name": "stdout",
     "output_type": "stream",
     "text": [
      "{'name': 10, 'age': 10}\n"
     ]
    }
   ],
   "source": [
    "#批量添加数据项or特征\n",
    "student = dict.fromkeys((\"name\",\"age\"))\n",
    "student = dict.fromkeys((\"name\",\"age\"), 10)\n",
    "print(student)"
   ]
  },
  {
   "cell_type": "markdown",
   "metadata": {},
   "source": [
    "* value没有顺序，可以是任意类型，甚至可以是字典\n",
    "* key只能是不可变类型：数值，字符串和元组。比如元组用来作为坐标，索引元素。"
   ]
  },
  {
   "cell_type": "markdown",
   "metadata": {},
   "source": [
    "## 2.2. 更新字典\n",
    "* 合并字典：同样的key覆盖，没有的key添加\n",
    "* 增长字典：\n",
    "\n",
    "1) dic[key]=value\n",
    "\n",
    "2) dic.update(friends = [\"a\",\"b\"])\n",
    "* 缩减字典:\n",
    "  \n",
    "1) del student['age']\n",
    "\n",
    "2) student.pop('course')\n",
    "\n",
    "3) student.popitem()【随机删除并返回一个数据项，适合遍历字典】\n",
    "\n",
    "4)清空字典clear \n",
    "* 字典大小len\n",
    "* 标签索引\n",
    "\n",
    "1)dict[key]\n",
    "\n",
    "2)student.get(key)\n",
    "* keys函数返回字典中的所有标签\n",
    "* values函数返回字典中的所有数据值\n",
    "* items返回键值对的二元组数据项\n",
    "* 判断是否存在标签：in操作\n",
    "* 判断是否存在值：in + values操作"
   ]
  },
  {
   "cell_type": "code",
   "execution_count": 13,
   "metadata": {},
   "outputs": [
    {
     "name": "stdout",
     "output_type": "stream",
     "text": [
      "{'name': 10, 'age': 10, 'friends': ['a', 'b']}\n"
     ]
    }
   ],
   "source": [
    "student.update(friends = [\"a\",\"b\"])#没有双引号！\n",
    "#student.pop('friends')\n",
    "print(student)"
   ]
  },
  {
   "cell_type": "markdown",
   "metadata": {},
   "source": [
    "# 3. 面向对象"
   ]
  },
  {
   "cell_type": "markdown",
   "metadata": {},
   "source": [
    "## 3.1. 基本概念\n",
    "Python中的所有事物都以对象存在。\n",
    "* 对象即表示客观世界问题空间中的某个具体事物，又表示软件系统解空间中的基\n",
    "* 对象 = 属性 + 方法\n",
    "* 对象以id为标识，包含数据（属性），代码（方法），是一类具体事物的特殊实例"
   ]
  },
  {
   "cell_type": "code",
   "execution_count": 2,
   "metadata": {},
   "outputs": [
    {
     "data": {
      "text/plain": [
       "140714612827952"
      ]
     },
     "execution_count": 2,
     "metadata": {},
     "output_type": "execute_result"
    }
   ],
   "source": [
    "id(1)#查看对象"
   ]
  },
  {
   "cell_type": "code",
   "execution_count": 3,
   "metadata": {},
   "outputs": [
    {
     "data": {
      "text/plain": [
       "int"
      ]
     },
     "execution_count": 3,
     "metadata": {},
     "output_type": "execute_result"
    }
   ],
   "source": [
    "type(1)#查看对象所属的类"
   ]
  },
  {
   "cell_type": "code",
   "execution_count": 4,
   "metadata": {},
   "outputs": [
    {
     "data": {
      "text/plain": [
       "['__abs__',\n",
       " '__add__',\n",
       " '__and__',\n",
       " '__bool__',\n",
       " '__ceil__',\n",
       " '__class__',\n",
       " '__delattr__',\n",
       " '__dir__',\n",
       " '__divmod__',\n",
       " '__doc__',\n",
       " '__eq__',\n",
       " '__float__',\n",
       " '__floor__',\n",
       " '__floordiv__',\n",
       " '__format__',\n",
       " '__ge__',\n",
       " '__getattribute__',\n",
       " '__getnewargs__',\n",
       " '__gt__',\n",
       " '__hash__',\n",
       " '__index__',\n",
       " '__init__',\n",
       " '__init_subclass__',\n",
       " '__int__',\n",
       " '__invert__',\n",
       " '__le__',\n",
       " '__lshift__',\n",
       " '__lt__',\n",
       " '__mod__',\n",
       " '__mul__',\n",
       " '__ne__',\n",
       " '__neg__',\n",
       " '__new__',\n",
       " '__or__',\n",
       " '__pos__',\n",
       " '__pow__',\n",
       " '__radd__',\n",
       " '__rand__',\n",
       " '__rdivmod__',\n",
       " '__reduce__',\n",
       " '__reduce_ex__',\n",
       " '__repr__',\n",
       " '__rfloordiv__',\n",
       " '__rlshift__',\n",
       " '__rmod__',\n",
       " '__rmul__',\n",
       " '__ror__',\n",
       " '__round__',\n",
       " '__rpow__',\n",
       " '__rrshift__',\n",
       " '__rshift__',\n",
       " '__rsub__',\n",
       " '__rtruediv__',\n",
       " '__rxor__',\n",
       " '__setattr__',\n",
       " '__sizeof__',\n",
       " '__str__',\n",
       " '__sub__',\n",
       " '__subclasshook__',\n",
       " '__truediv__',\n",
       " '__trunc__',\n",
       " '__xor__',\n",
       " 'as_integer_ratio',\n",
       " 'bit_length',\n",
       " 'conjugate',\n",
       " 'denominator',\n",
       " 'from_bytes',\n",
       " 'imag',\n",
       " 'numerator',\n",
       " 'real',\n",
       " 'to_bytes']"
      ]
     },
     "execution_count": 4,
     "metadata": {},
     "output_type": "execute_result"
    }
   ],
   "source": [
    "dir(1)#查看属性和方法"
   ]
  },
  {
   "cell_type": "code",
   "execution_count": 5,
   "metadata": {},
   "outputs": [
    {
     "data": {
      "text/plain": [
       "2096929702912"
      ]
     },
     "execution_count": 5,
     "metadata": {},
     "output_type": "execute_result"
    }
   ],
   "source": [
    "id(abs)"
   ]
  },
  {
   "cell_type": "markdown",
   "metadata": {},
   "source": [
    "* 对象是类的实例，是程序的基本单元\n",
    "* 要创建一个新的对象，必须先定义一个类\n",
    "* 同一类的对象具有相同的属性和方法，但属性值和id不同\n",
    "* 对象可以有多个名称，但只有一个id\n",
    "* 对象实现了属性和方法的封装，是一种数据抽象机制"
   ]
  },
  {
   "cell_type": "markdown",
   "metadata": {},
   "source": [
    "* 引用形式：<对象名>.<属性名>\n",
    "* 如果是单个的属性名，就可以当作一般的变量一样，用在赋值语句和表达式中\n",
    "* 调用这个类的函数也很方便，记得带括号\n",
    "* python是动态的语言，除了变量可以动态生成，对象也可以随时增加或删除属性或者方法。例如：<对象名>.<属性名> = 3.6\n",
    "* 面向对象编程是程序设计范型，同时也是一种程序开发方法"
   ]
  },
  {
   "cell_type": "markdown",
   "metadata": {},
   "source": [
    "# 4. 类的定义与调用"
   ]
  },
  {
   "cell_type": "markdown",
   "metadata": {},
   "source": [
    "## 4.1. 类的定义\n",
    "* 类是对象的模板，封装了对应现实实体的性质和行为\n",
    "* 实例对象是类的具体化\n",
    "* 类是模具，对象是模具制造出来的零件\n",
    "* 类的出现，为面向对象编程的三个最重要特性提供了实现手段：封装性，继承性，多态性【同一段代码可以处理不同的对象，甚至不同类型的对象】\n",
    "* 自定义类，用大写字母开头。函数用小写字母。因为类和函数在使用的时候形式完全一致的\n",
    "* 定义类：class<类名>:\n",
    "* 类的初始化：\n",
    "    class<类名>:\n",
    "        def __init__(self,<参数表>):\n",
    "* 类的函数里，第一个参数总是self。类方法中，self指这个对象实例自己\n",
    "* 调用：<类名>(<参数>)\n",
    "* 加法返回重新生成的力的对象"
   ]
  },
  {
   "cell_type": "markdown",
   "metadata": {},
   "source": [
    "## 4.2. 类定义中的特殊方法"
   ]
  },
  {
   "cell_type": "markdown",
   "metadata": {},
   "source": [
    "* 特殊方法也被称为魔术方法。在类定义中实现特殊方法，可以方便地使用python中的内置操作。\n",
    "* 所有特殊方法以两个下划线开始和结束\n",
    "* 对象构造器：__init__(sekf,[])\n",
    "* 析构器：__del(self,[])"
   ]
  },
  {
   "cell_type": "code",
   "execution_count": 1,
   "metadata": {},
   "outputs": [],
   "source": [
    "from os.path import join\n",
    "class FileObject:\n",
    "    def __init__(self,filepath = '~',filename = 'sample.txt') -> None:\n",
    "        self.file = open(join(filepath,filename),'r4')\n",
    "    def __del__(self):\n",
    "        self.file.close()\n",
    "        del self.file"
   ]
  },
  {
   "cell_type": "markdown",
   "metadata": {},
   "source": [
    "* 算数操作符：\n",
    "  1) __add__(self,other)\n",
    "  2) __sub__(self,other)\n",
    "  3) __mul__(self,other)\n",
    "  4) __div__(self,other)"
   ]
  },
  {
   "cell_type": "markdown",
   "metadata": {},
   "source": [
    "* 反运算:自己self作为右操作数\n",
    "  1) __radd__(self,other)\n",
    "  2) __rsub__(self,other)\n",
    "  3) __rmul__(self,other)\n",
    "  4) __rdiv__(self,other)"
   ]
  },
  {
   "cell_type": "markdown",
   "metadata": {},
   "source": [
    "* 大小比较\n",
    "1) __eq__(self,other)\n",
    "2) __ne__(self,other)\n",
    "3) __lt__(self,other):<\n",
    "4) __gt__(self,other):>\n",
    "5) __le__(self,other):<=\n",
    "6) __ge__(self,other):>="
   ]
  },
  {
   "cell_type": "markdown",
   "metadata": {},
   "source": [
    "* 若特殊函数本身已经符合要求，那么只用把下划线__特殊方法__ = 特殊方法即可"
   ]
  },
  {
   "cell_type": "markdown",
   "metadata": {},
   "source": [
    "* 字符串操作\n",
    "  1) __str__(self)#自动转换为字符串\n",
    "  2) __repr__(self)#对象的正式表达\n",
    "  3) __len__(self)#返回元素个数"
   ]
  },
  {
   "cell_type": "markdown",
   "metadata": {},
   "source": [
    "# 5. 自定义对象的排序"
   ]
  },
  {
   "cell_type": "markdown",
   "metadata": {},
   "source": [
    "## 5.1. 列表排序"
   ]
  },
  {
   "cell_type": "markdown",
   "metadata": {},
   "source": [
    "* 列表方法sort()，按内容排序，改变原列表内容。\n",
    "* 如都是数字，默认按升序排序\n",
    "* 如元素都是字符串，会按字母表排序\n",
    "* sorted()：返回排序好的，原列表内容不变\n",
    "* 只有列表元素属于同一种类型时，sort()和sorted()才会正常工作。因为基于__lt__特殊方法：该方法应return True"
   ]
  },
  {
   "cell_type": "markdown",
   "metadata": {},
   "source": [
    "# 6. 类的继承"
   ]
  },
  {
   "cell_type": "markdown",
   "metadata": {},
   "source": [
    "* 继承方便了代码复用\n",
    "* class <子类名>(<父类名>):\n",
    "      def <重定义方法>(self,...):\n",
    "* 这就是覆盖override\n",
    "* 还可以添加父类中没有的方法和属性： "
   ]
  },
  {
   "cell_type": "code",
   "execution_count": 7,
   "metadata": {},
   "outputs": [
    {
     "name": "stdout",
     "output_type": "stream",
     "text": [
      "<class '__main__.Car'>\n",
      "70\n"
     ]
    }
   ],
   "source": [
    "class Car:\n",
    "    def __init__(self,name) -> str:# -> type:不影响原本的类型\n",
    "        self.name = name\n",
    "        self.remain_mile = 0\n",
    "\n",
    "class GasCar(Car):\n",
    "    def __init__(self, name,capacity) -> None:\n",
    "        super().__init__(name)#父类初始化方法，只有名字\n",
    "        #在__init__(name)里，只有Name被重新初始化是因为Car的初始化里只使用了name参数\n",
    "        self.remain_mile = 70\n",
    "        self.capacity = capacity#新添加方法\n",
    "\n",
    "a = Car('BMW')\n",
    "print(type(a))\n",
    "\n",
    "b = GasCar('BMW',60)\n",
    "print(b.remain_mile)"
   ]
  },
  {
   "cell_type": "markdown",
   "metadata": {},
   "source": [
    "* self的作用：在类的内部，实例化过程中传入的所有数据都给这个变量\n",
    "* 这个变量和类没有关系，是独立的一个实例变量\n",
    "* self代表的是对象实例\n",
    "* gcar.run(200.0)等价于GasCar.run(gcar,200.0)"
   ]
  }
 ],
 "metadata": {
  "interpreter": {
   "hash": "b3ba2566441a7c06988d0923437866b63cedc61552a5af99d1f4fb67d367b25f"
  },
  "kernelspec": {
   "display_name": "Python 3.8.8 64-bit ('base': conda)",
   "name": "python3"
  },
  "language_info": {
   "codemirror_mode": {
    "name": "ipython",
    "version": 3
   },
   "file_extension": ".py",
   "mimetype": "text/x-python",
   "name": "python",
   "nbconvert_exporter": "python",
   "pygments_lexer": "ipython3",
   "version": "3.8.8"
  },
  "orig_nbformat": 4
 },
 "nbformat": 4,
 "nbformat_minor": 2
}
