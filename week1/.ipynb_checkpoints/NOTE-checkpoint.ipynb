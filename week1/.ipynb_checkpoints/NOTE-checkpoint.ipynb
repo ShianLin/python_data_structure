{
 "cells": [
  {
   "cell_type": "markdown",
   "id": "1467b20f",
   "metadata": {},
   "source": [
    "# 101 引子：数据时代"
   ]
  },
  {
   "cell_type": "markdown",
   "id": "66677138",
   "metadata": {},
   "source": [
    "介绍了数据来源和应用。具体看PPT。"
   ]
  },
  {
   "cell_type": "markdown",
   "id": "b844a906",
   "metadata": {},
   "source": [
    "# 102 问题求解的计算之道"
   ]
  },
  {
   "cell_type": "markdown",
   "id": "a7167f7d",
   "metadata": {},
   "source": [
    "* 问题：未知事物 ————\n",
    "\n",
    "1. What：面向判断与分类\n",
    "\n",
    "2. Why：面向求因与证明\n",
    "\n",
    "3. How：面向过程与构建\n",
    "\n",
    "* 问题的解决之道（过程）\n",
    "从未知到已知\n",
    "\n",
    "* 通过该过程得到的解决方案\n",
    "\n",
    "   工具【能行可计算】"
   ]
  },
  {
   "cell_type": "markdown",
   "id": "c1db2433",
   "metadata": {},
   "source": [
    "* 数学：解决问题的终极工具\n",
    "* 为了解决数学本身的可检验性问题，大数学家希尔伯特提出“能否找到一种基于有穷观点的能行方法，来判定任何一个数学命题的真假”\n",
    "* 基于有穷观点的能行方法：\n",
    "a. 由有限数量的明确有限指令构成；\n",
    "b. 指令执行在有限步骤后终止；\n",
    "c. 指令每次执行都总能得到唯一结果；\n",
    "d. 原则上可以由人单独采用纸笔完成，而不依靠其它辅助；\n",
    "e. 每条指令可以机械地被精确执行，而不需要智慧和灵感\n",
    "* 基于有穷观点的能行方法，就是把抽象的计算概念提出来了\n",
    "* 不存在能行方法判定所有数学命题的真假。但能行可计算成为计算理论的基础"
   ]
  },
  {
   "cell_type": "markdown",
   "id": "d0150d82",
   "metadata": {},
   "source": [
    "关于计算来解决问题的数学模型：\n",
    "* 递归函数模型\n",
    "* Lambda演算模型\n",
    "* POST机模型\n",
    "* 图灵机模型\n",
    "\n",
    "这些基于有穷观点的能行方法的计算模型都是等价的"
   ]
  },
  {
   "cell_type": "markdown",
   "id": "5f538ad7",
   "metadata": {},
   "source": [
    "# 103 图灵机计算模型"
   ]
  },
  {
   "cell_type": "markdown",
   "id": "c890fc79",
   "metadata": {},
   "source": [
    "## 1. 图灵机的基本概念\n"
   ]
  },
  {
   "cell_type": "markdown",
   "id": "f5b3b798",
   "metadata": {},
   "source": [
    "* 在纸上写上或擦除某个符号；\n",
    "* 把注意力从纸的一个位置转向另一个位置\n",
    "* 在每个阶段，要决定下一步动作依赖于：\n",
    "(a)此人当前所关注的纸上某个位置的符号和\n",
    "(b)此人当前思维的状态"
   ]
  },
  {
   "cell_type": "markdown",
   "id": "5bc8e10a",
   "metadata": {},
   "source": [
    "## 2. 图灵机的基本定义"
   ]
  },
  {
   "cell_type": "markdown",
   "id": "03e56f51",
   "metadata": {},
   "source": [
    "图灵机由以下几部分构成\n",
    "* 一条无限长的分格纸带，每格可以记录1个符号\n",
    "* 一个读写头，可在纸带上左右移动，能读出和擦写格子的字符\n",
    "* 一个状态寄存器，记录有限状态中的1个状态\n",
    "* 一系列有限的控制规则【某个状态，读入某个字符时】：\n",
    "1) 要改写成什么字符\n",
    "2) 要如何移动读写头\n",
    "3) 要改变为什么状态"
   ]
  },
  {
   "cell_type": "markdown",
   "id": "4354b5ab",
   "metadata": {},
   "source": [
    "因此，规则是一个**五元组**：当前状态，当前读入字符，改写字符，改变的状态，读写头移动方向。\n",
    "\n",
    "初始状态S0是读写头停在第一个字符处。可以回到这个状态。\n",
    "\n",
    "空白记作字符B。状态N，接受并停机。状态R，拒绝。\n",
    "\n",
    "图灵机未必会停机。\n",
    "\n",
    "可以使用对应的图灵机模拟器软件。"
   ]
  },
  {
   "cell_type": "markdown",
   "id": "c5df6325",
   "metadata": {},
   "source": [
    "# 104 算法和计算复杂性"
   ]
  },
  {
   "cell_type": "markdown",
   "id": "4749a775",
   "metadata": {},
   "source": [
    "what why how三类问题，如能通过有限能行方法的计算模型解决，都是可计算问题。可计算只关心能不能在有限资源（时间空间）内解决问题，资源具体消耗多少不管"
   ]
  },
  {
   "cell_type": "markdown",
   "id": "09c8f161",
   "metadata": {},
   "source": [
    "## 1. WHAT分类问题"
   ]
  },
  {
   "cell_type": "markdown",
   "id": "c9788784",
   "metadata": {},
   "source": [
    "## 2. WHY证明问题"
   ]
  },
  {
   "cell_type": "markdown",
   "id": "e5eeb592",
   "metadata": {},
   "source": [
    "## 3.HOW过程问题"
   ]
  },
  {
   "cell_type": "markdown",
   "id": "112a0286",
   "metadata": {},
   "source": [
    "因此，导出了计算复杂性：\n",
    "\n",
    "定义一些衡量指标，对问题的难易程度（所需的执行步骤数/存储空间大小）进行分类，是计算复杂性理论的研究范围。\n"
   ]
  },
  {
   "cell_type": "markdown",
   "id": "57ce2c16",
   "metadata": {},
   "source": [
    "同一个问题，会有不同的解决方案，解决效率也是千差万别。\n",
    "\n",
    "计算复杂性**并不关心解决问题的具体方案**\n",
    "\n",
    "算法则研究问题在不同现实资源约束情况下的不同解决方案，致力于找到效率最高的方案"
   ]
  },
  {
   "cell_type": "markdown",
   "id": "297233dd",
   "metadata": {},
   "source": [
    "不可计算问题，是定义清晰但无法解决的问题。而且不是尚未找到解，而是被证明不存在解决方案。例如：停机问题，不可计算数"
   ]
  },
  {
   "cell_type": "markdown",
   "id": "ac898191",
   "metadata": {},
   "source": [
    "停机问题：判定任何一个程序在任何一个输入情况下是否能够停机。\n",
    "\n",
    "不可计算数：几乎所有的无理数，都无法通过算法来确定其任意一位是什么数字。除了圆周率$Pi$和自然对数的底数$e$"
   ]
  },
  {
   "cell_type": "markdown",
   "id": "79e49ace",
   "metadata": {},
   "source": [
    "# 105 突破计算极限"
   ]
  },
  {
   "cell_type": "markdown",
   "id": "a258a98f",
   "metadata": {},
   "source": [
    "* 超大规模分布式计算\n",
    "* 新型计算技术\n",
    "* 智慧众包项目"
   ]
  },
  {
   "cell_type": "markdown",
   "id": "f19ed551",
   "metadata": {},
   "source": [
    "# 106 什么是抽象和实现"
   ]
  },
  {
   "cell_type": "markdown",
   "id": "5add37b3",
   "metadata": {},
   "source": [
    "计算机科学主要研究的是问题、问题解决过程，以及问题的解决方案"
   ]
  },
  {
   "cell_type": "markdown",
   "id": "0ea2bc7d",
   "metadata": {},
   "source": [
    "# 1 抽象"
   ]
  },
  {
   "cell_type": "markdown",
   "id": "9fb312e2",
   "metadata": {},
   "source": [
    "为了更好地处理机器相关性或独立性，引入了“抽象”的概念。用以从 “ 逻 辑 Logical ” 或 者 “ 物 理\n",
    "Physical”的不同层次上看待问题及解决方案。"
   ]
  },
  {
   "cell_type": "markdown",
   "id": "a1bf3bb8",
   "metadata": {},
   "source": [
    "## 1.1. 什么是抽象【会用即可】\n",
    "\n",
    "从抽象角度看，司机看到的是功能层次，或者说逻辑层次。司机可以通过各种各样的操作，来达到运输的目的。这些操作机构被称为“接口”。"
   ]
  },
  {
   "cell_type": "markdown",
   "id": "5955351e",
   "metadata": {},
   "source": [
    "## 1.2. 什么是实现【明白原理】"
   ]
  },
  {
   "cell_type": "markdown",
   "id": "4b840b74",
   "metadata": {},
   "source": [
    "而从汽车修理工的角度来看同一辆汽车，就会相当不同，他还需要清楚每项功能是如何实现的。这些内部构造构成了汽车的“物理”层次。工作过程就称为“实现Implementation”。\n"
   ]
  },
  {
   "cell_type": "markdown",
   "id": "9f97a475",
   "metadata": {},
   "source": [
    "编程是通过一种程序设计语言，将抽象的算法实现为计算机可以执行的代码的过程。"
   ]
  },
  {
   "cell_type": "markdown",
   "id": "6f4346ea",
   "metadata": {},
   "source": [
    "## 1.3. 算法+数据结构=程序"
   ]
  },
  {
   "cell_type": "markdown",
   "id": "73762eed",
   "metadata": {},
   "source": [
    "程序设计语言需要为算法的实现提供实现“过程”【运行】和“数据”【存储】的机制。具体表现为“控制结构”和“数据类型”。"
   ]
  },
  {
   "cell_type": "markdown",
   "id": "faf867ac",
   "metadata": {},
   "source": [
    "控制结构包括：顺序处理、分支选择、循环迭代。"
   ]
  },
  {
   "cell_type": "markdown",
   "id": "a75ffac0",
   "metadata": {},
   "source": [
    "数据类型包括：\n",
    "整数，字符等。也可以用自己的。"
   ]
  },
  {
   "cell_type": "markdown",
   "id": "44836d3a",
   "metadata": {},
   "source": [
    "# 107 为什么研究数据结构与算法"
   ]
  },
  {
   "cell_type": "markdown",
   "id": "7dd24653",
   "metadata": {},
   "source": [
    "* 为了控制问题和问题解决过程的复杂度，利用抽象来保持问题的“整体感”而不会陷入到过多的细节中去\n",
    "\n",
    "* 这要求对现实问题进行建模的时候，对算法所要处理的数据，也要保持与问题本身的一致性，不要有太多与问题无关的细节"
   ]
  },
  {
   "cell_type": "markdown",
   "id": "c80606c7",
   "metadata": {},
   "source": [
    "## 抽象数据类型【ADT】\n",
    "\n",
    "只有功能描述和实现调用的接口，对于具体实现是不用用户管理的"
   ]
  },
  {
   "cell_type": "markdown",
   "id": "e45e9f88",
   "metadata": {},
   "source": [
    "也建立了一种对数据的 “封装\n",
    "Encapsulation”封装技术将可能的处理实现细节隐蔽起来能有效控制算法的复杂度。因为同一ADT可以使用不同的数据结构实现。\n",
    "\n",
    "采用程序设计语言的控制结构和基本数据类型来实现ADT所提供的逻辑接口，属于ADT的物理层次。"
   ]
  },
  {
   "cell_type": "markdown",
   "id": "2291904e",
   "metadata": {},
   "source": [
    "因此ADT实现了分开物理层次和逻辑层次\n",
    "\n",
    "可以定义复杂的数据模型来解决问题，而不需要立即考虑此模型如何实现"
   ]
  },
  {
   "cell_type": "markdown",
   "id": "a305ccb8",
   "metadata": {},
   "source": [
    "因此，好处有：\n",
    "\n",
    "❖由于对抽象数据类型可以有多种实现方案\n",
    "\n",
    "❖独立于实现的数据模型让底层开发程序员专注于实现和优化数据处理，又不改变数据的使用接口让用户专注于用数据接口来进行问题的解决，而无需考虑如何具体实现这些接口\n",
    "\n",
    "❖通过层层抽象，降低问题解决过程的复杂度\n"
   ]
  },
  {
   "cell_type": "markdown",
   "id": "55920510",
   "metadata": {},
   "source": [
    "如何研究和学习算法？\n",
    "\n",
    "首先，学习各种不同的解决方案\n",
    "\n",
    "其次，各算法通常有较大的差异\n",
    "\n",
    "而且，在碰到棘手难题时，需要一些折衷的处理方式"
   ]
  },
  {
   "cell_type": "markdown",
   "id": "f928b9f4",
   "metadata": {},
   "source": [
    "# 108 从C转换到python"
   ]
  },
  {
   "cell_type": "markdown",
   "id": "d5250406",
   "metadata": {},
   "source": [
    "视频有四个"
   ]
  },
  {
   "cell_type": "markdown",
   "id": "0363460c",
   "metadata": {},
   "source": [
    "python是强类型语言，不能把不同类型的数据混在一起看"
   ]
  },
  {
   "cell_type": "code",
   "execution_count": null,
   "id": "4ba9cda8",
   "metadata": {},
   "outputs": [],
   "source": [
    "for i in range(8):\n",
    "    print(\"*\"*i)\n",
    "# 注意最后一行有多少个\n",
    "\n",
    "print(list(range(8)))"
   ]
  },
  {
   "cell_type": "markdown",
   "id": "30a3b21b",
   "metadata": {},
   "source": [
    "B站的AV87882118可以学python基础"
   ]
  },
  {
   "cell_type": "markdown",
   "id": "78adfa36",
   "metadata": {},
   "source": [
    "# 109 《Python 数据结构与算法分析》补充：Python基础"
   ]
  },
  {
   "cell_type": "markdown",
   "id": "6a9ce3d8",
   "metadata": {},
   "source": [
    "# 1. 数据"
   ]
  },
  {
   "cell_type": "markdown",
   "id": "a5009f50",
   "metadata": {},
   "source": [
    "python支持面向对象编程范式。这意味着Python认为数据是问题解决过程中的关键点。\n",
    "\n",
    "类是对数据的构成（状态）和数据能做什么（行为）的描述。因为类的使用者只能看到数据项的状态和行为，因此类与抽象数据类型是相似的。\n",
    "\n",
    "在面向对象编程范式中，数据项被称为对象。一个对象就是类的一个实例。\n",
    "\n",
    "## 1.1 内建院子数据类型\n",
    "跳过。\n",
    "\n",
    "请注意，变量存的是指向数据的引用，而不是数据本身。赋值语句改变了变量的引用，体现了python动态特性。\n",
    "\n",
    "## 1.2. 内建集合数据类型\n",
    "set和字典是无序集合。\n",
    "\n",
    "列表是异构的，数据对象不需要是同一个类，并且这个集合可以被赋值给一个变量。\n",
    "\n",
    "当python计算一个列表，这个列表会自己返回。然而，为了记住该列表以便后续处理，其引用需要被赋给另一个变量。可以和原变量同名。\n",
    "\n",
    "列表中重复运算返回的结果是序列中只想对象数据的引用的重复，而不是新开。\n",
    "\n",
    "列表可以被修改，字符串不能。\n",
    "\n",
    "%是字符串运算符，被称作格式化运算符。"
   ]
  },
  {
   "cell_type": "markdown",
   "id": "daf39aab",
   "metadata": {},
   "source": [
    "# 2. Python面向对象编程：定义类"
   ]
  },
  {
   "cell_type": "code",
   "execution_count": null,
   "id": "d4a0cb0f",
   "metadata": {},
   "outputs": [],
   "source": [
    "class Fraction:\n",
    "    #方法定义\n",
    "    def __init__(self,top,bottom):#构造方法。self总是指向对象本身的特殊参数，必须是第一个形式参数，但调用时不需要提供对应的实际参数。\n",
    "        # 使用类名并传入状态的实际值就能完成调用\n",
    "        self.num = top\n",
    "        self.den = bottom"
   ]
  },
  {
   "cell_type": "code",
   "execution_count": null,
   "id": "b5a006a5",
   "metadata": {},
   "outputs": [],
   "source": [
    "myf = Fraction(3,5)\n",
    "print (myf)#在这里打印的是存储在变量中的实际引用"
   ]
  },
  {
   "cell_type": "code",
   "execution_count": null,
   "id": "2ca2490d",
   "metadata": {},
   "outputs": [],
   "source": [
    "class Fraction:\n",
    "    #方法定义\n",
    "    def __init__(self,top,bottom):#构造方法。self总是指向对象本身的特殊参数，必须是第一个形式参数，但调用时不需要提供对应的实际参数。\n",
    "        # 使用类名并传入状态的实际值就能完成调用\n",
    "        self.num = top\n",
    "        self.den = bottom\n",
    "    def show(self):#打印数据\n",
    "        print(self.num,'/',self.den)\n"
   ]
  },
  {
   "cell_type": "code",
   "execution_count": null,
   "id": "b9948d7e",
   "metadata": {},
   "outputs": [],
   "source": [
    "myf = Fraction(3,5)\n",
    "myf.show()\n",
    "print(myf)\n",
    "myf.show()*6#注意：unsupported operand type(s) for *: 'NoneType' and 'int'"
   ]
  },
  {
   "cell_type": "code",
   "execution_count": null,
   "id": "b12490cc",
   "metadata": {},
   "outputs": [],
   "source": [
    "class Fraction:\n",
    "    #方法定义\n",
    "    def __init__(self,top,bottom):#构造方法。self总是指向对象本身的特殊参数，必须是第一个形式参数，但调用时不需要提供对应的实际参数。\n",
    "        # 使用类名并传入状态的实际值就能完成调用\n",
    "        self.num = top\n",
    "        self.den = bottom\n",
    "    def show(self):#打印数据\n",
    "        print(self.num,'/',self.den)\n",
    "    def __str__(self):\n",
    "        return str(self.num) + '/' + str(self.den)"
   ]
  },
  {
   "cell_type": "code",
   "execution_count": null,
   "id": "bab7fea6",
   "metadata": {},
   "outputs": [],
   "source": [
    "myf = Fraction(3,5)\n",
    "myf.show()\n",
    "print(myf)\n",
    "myf.__str__()"
   ]
  },
  {
   "cell_type": "code",
   "execution_count": null,
   "id": "3af8519e",
   "metadata": {},
   "outputs": [],
   "source": [
    "str(myf)"
   ]
  },
  {
   "cell_type": "code",
   "execution_count": null,
   "id": "6602084f",
   "metadata": {},
   "outputs": [],
   "source": [
    "f1 = Fraction(1,4)\n",
    "f2 = Fraction(1,2)\n",
    "f1 + f2#unsupported operand type(s) for +: 'Fraction' and 'Fraction'"
   ]
  },
  {
   "cell_type": "code",
   "execution_count": null,
   "id": "ce09dbd1",
   "metadata": {},
   "outputs": [],
   "source": [
    "class Fraction:\n",
    "    #方法定义\n",
    "    def __init__(self,top,bottom):#构造方法。self总是指向对象本身的特殊参数，必须是第一个形式参数，但调用时不需要提供对应的实际参数。\n",
    "        # 使用类名并传入状态的实际值就能完成调用\n",
    "        self.num = top\n",
    "        self.den = bottom\n",
    "    def show(self):#打印数据\n",
    "        print(self.num,'/',self.den)\n",
    "    def __str__(self):\n",
    "        return str(self.num) + '/' + str(self.den)\n",
    "    def __add__(self,otherfraction):\n",
    "        newnum = self.num * otherfraction.den + \\\n",
    "                 self.den * otherfraction.num\n",
    "        newden = self.den * otherfraction.den\n",
    "        return Fraction(newnum,newden)"
   ]
  },
  {
   "cell_type": "code",
   "execution_count": null,
   "id": "1feb2756",
   "metadata": {},
   "outputs": [],
   "source": [
    "f1 = Fraction(1,4)\n",
    "f2 = Fraction(1,2)\n",
    "print(f1 + f2)"
   ]
  },
  {
   "cell_type": "markdown",
   "id": "db121895",
   "metadata": {},
   "source": [
    "在这里改良一下，得最简分数。求最大公因数，有"
   ]
  },
  {
   "cell_type": "code",
   "execution_count": null,
   "id": "0aba51ac",
   "metadata": {},
   "outputs": [],
   "source": [
    "def gcd(m,n):\n",
    "    while m%n != 0:\n",
    "        oldm = m\n",
    "        oldn = n\n",
    "\n",
    "        m = oldn\n",
    "        n = oldm%oldn\n",
    "    return n"
   ]
  },
  {
   "cell_type": "code",
   "execution_count": null,
   "id": "8bf06a26",
   "metadata": {},
   "outputs": [],
   "source": [
    "class Fraction:\n",
    "    #方法定义\n",
    "    def __init__(self,top,bottom):#构造方法。self总是指向对象本身的特殊参数，必须是第一个形式参数，但调用时不需要提供对应的实际参数。\n",
    "        # 使用类名并传入状态的实际值就能完成调用\n",
    "        self.num = top\n",
    "        self.den = bottom\n",
    "    def show(self):#打印数据\n",
    "        print(self.num,'/',self.den)\n",
    "    def __str__(self):\n",
    "        return str(self.num) + '/' + str(self.den)\n",
    "    def __add__(self,otherfraction):\n",
    "        newnum = self.num * otherfraction.den + \\\n",
    "                 self.den * otherfraction.num\n",
    "        newden = self.den * otherfraction.den\n",
    "        commom = self.gcd(newnum,newden)\n",
    "        return Fraction(newnum//commom,newden//commom)\n",
    "    def gcd(self,m,n):\n",
    "        while m%n != 0:\n",
    "            oldm = m\n",
    "            oldn = n\n",
    "            m = oldn\n",
    "            n = oldm%oldn\n",
    "        return n"
   ]
  },
  {
   "cell_type": "code",
   "execution_count": null,
   "id": "18bd2cf9",
   "metadata": {},
   "outputs": [],
   "source": [
    "f1 = Fraction(1,4)\n",
    "f2 = Fraction(1,2)\n",
    "print(f1 + f2)"
   ]
  },
  {
   "cell_type": "markdown",
   "id": "0e57f57f",
   "metadata": {},
   "source": [
    "为了允许两个分数相互比较，先概念如下：浅相等是指只有引用相同时才相等，深相等是值相等即相等"
   ]
  },
  {
   "cell_type": "code",
   "execution_count": null,
   "id": "97e84606",
   "metadata": {},
   "outputs": [],
   "source": [
    "class Fraction:\n",
    "    #方法定义\n",
    "    def __init__(self,top,bottom):#构造方法。self总是指向对象本身的特殊参数，必须是第一个形式参数，但调用时不需要提供对应的实际参数。\n",
    "        # 使用类名并传入状态的实际值就能完成调用\n",
    "        self.num = top\n",
    "        self.den = bottom\n",
    "    def show(self):#打印数据\n",
    "        print(self.num,'/',self.den)\n",
    "    def __str__(self):\n",
    "        return str(self.num) + '/' + str(self.den)\n",
    "    def __add__(self,otherfraction):\n",
    "        newnum = self.num * otherfraction.den + \\\n",
    "                 self.den * otherfraction.num\n",
    "        newden = self.den * otherfraction.den\n",
    "        commom = self.gcd(newnum,newden)\n",
    "        return Fraction(newnum//commom,newden//commom)\n",
    "    def gcd(self,m,n):\n",
    "        while m%n != 0:\n",
    "            oldm = m\n",
    "            oldn = n\n",
    "            m = oldn\n",
    "            n = oldm%oldn\n",
    "        return n\n",
    "    def __eg__(self,other):\n",
    "        firstnum = self.num * other.den\n",
    "        secondnum = self.den * other.num\n",
    "\n",
    "        return firstnum == secondnum"
   ]
  },
  {
   "cell_type": "markdown",
   "id": "e2f5bbe7",
   "metadata": {},
   "source": [
    "# 3. 继承：逻辑门与电路\n",
    "继承使一个类和另一类相关联。python的子类可以从父类（也称为超类）中继承特征数据和行为。举例来说，列表是有序集合（父）的子。这种关系通常被称为IS-A关系，意味着列表从有序集合继承了重要的特征。以下使用逻辑门与电路来说明继承。"
   ]
  },
  {
   "cell_type": "code",
   "execution_count": 1,
   "id": "5b6a6791",
   "metadata": {},
   "outputs": [],
   "source": [
    "class LogicGate:\n",
    "    def __init__(self,n) -> None:\n",
    "        self.label = n\n",
    "        self.output = None\n",
    "    def getLabel(self):\n",
    "        return self.label\n",
    "    def getOutPut(self):\n",
    "        self.output = self.performGateLogic()#还不用在这里实现performGateLogic函数\n",
    "        return self.output"
   ]
  },
  {
   "cell_type": "code",
   "execution_count": 2,
   "id": "700f01b8",
   "metadata": {},
   "outputs": [],
   "source": [
    "class BinaryGate(LogicGate):#BinaryGate是LogicGate的一个子类，并且有两个输入【引脚】\n",
    "    def __init__(self, n) -> None:\n",
    "        super().__init__(n)#使用super调用其父类的构造方法\n",
    "        #创建BinaryGate类的实例时，首先要初始化所有从父类继承来的数据项，这里是逻辑门的标签\n",
    "        #接着，构造方法添加两个输入\n",
    "        #换言之，子类的构造方法需要先调用父类的构造方法，然后初始化自己独有的数据\n",
    "        self.pinA = None\n",
    "        self.pinB = None\n",
    "    def getPinA(self):\n",
    "        return int(input(\"ENTER PIN A FOR GATE \" + \\\n",
    "                         self.getLabel() + \"-->\"))\n",
    "\n",
    "    def getPinB(self):\n",
    "        return int(input(\"ENTER PIN B FOR GATE \" + \\\n",
    "                         self.getLabel() + \"-->\"))\n",
    "                         "
   ]
  },
  {
   "cell_type": "code",
   "execution_count": 3,
   "id": "1b0b8137",
   "metadata": {},
   "outputs": [],
   "source": [
    "class UnaryGate(LogicGate):\n",
    "    def __init__(self, n) -> None:\n",
    "        super().__init__(n)\n",
    "        self.pin = None\n",
    "    def getPin(self):\n",
    "        return int(input(\"ENTER PIN FOR GATE \" + \\\n",
    "                         self.getLabel() + \"-->\"))\n",
    "                         "
   ]
  },
  {
   "cell_type": "code",
   "execution_count": 4,
   "id": "aa771afd",
   "metadata": {},
   "outputs": [],
   "source": [
    "class AndGate(BinaryGate):\n",
    "    def __init__(self, n) -> None:\n",
    "        super().__init__(n)\n",
    "    def performGateLogic(self):\n",
    "        a = self.getPinA()\n",
    "        b = self.getPinB()\n",
    "        if a == 1 and b == 1:\n",
    "            return 1 \n",
    "        else:\n",
    "            return 0\n",
    "    def setNextPin(self,source):#source是连接器\n",
    "        if self.pinA == None:\n",
    "            self.pinA = source\n",
    "        else:\n",
    "            if self.pinB == None:\n",
    "                self.pinB = source\n",
    "            else:\n",
    "                raise RuntimeError(\"Error:no empty pins\")\n",
    "    def getPinA(self):\n",
    "        if self.pinA == None:\n",
    "            return int(input(\"ENTER PIN A FOR GATE \" + \\\n",
    "                         self.getLabel() + \"-->\"))\n",
    "        else:\n",
    "            return self.pinA.getFrom().getOutPut()\n",
    "    def getPinB(self):\n",
    "        if self.pinB == None:\n",
    "            return int(input(\"ENTER PIN B FOR GATE \" + \\\n",
    "                         self.getLabel() + \"-->\"))\n",
    "        else:\n",
    "            return self.pinB.getFrom().getOutPut()"
   ]
  },
  {
   "cell_type": "code",
   "execution_count": 15,
   "id": "b72c3160",
   "metadata": {},
   "outputs": [
    {
     "data": {
      "text/plain": [
       "1"
      ]
     },
     "execution_count": 15,
     "metadata": {},
     "output_type": "execute_result"
    }
   ],
   "source": [
    "g1 = AndGate(\"G1\")\n",
    "g1.getOutPut()"
   ]
  },
  {
   "cell_type": "code",
   "execution_count": 5,
   "id": "4d85f6ab",
   "metadata": {},
   "outputs": [],
   "source": [
    "class OrGate(BinaryGate):\n",
    "    def __init__(self, n) -> None:\n",
    "        super().__init__(n)\n",
    "    def performGateLogic(self):\n",
    "        a = self.getPinA()\n",
    "        b = self.getPinB()\n",
    "        if a == 1 or b == 1:\n",
    "            return 1 \n",
    "        else:\n",
    "            return 0\n",
    "    def setNextPin(self,source):\n",
    "        if self.pinA == None:\n",
    "            self.pinA = source\n",
    "        else:\n",
    "            if self.pinB == None:\n",
    "                self.pinB = source\n",
    "            else:\n",
    "                raise RuntimeError(\"Error:no empty pins\")\n",
    "    def getPinA(self):\n",
    "        if self.pinA == None:\n",
    "            return int(input(\"ENTER PIN A FOR GATE \" + \\\n",
    "                         self.getLabel() + \"-->\"))\n",
    "        else:\n",
    "            return self.pinA.getFrom().getOutPut()\n",
    "    def getPinB(self):\n",
    "        if self.pinB == None:\n",
    "            return int(input(\"ENTER PIN B FOR GATE \" + \\\n",
    "                         self.getLabel() + \"-->\"))\n",
    "        else:\n",
    "            return self.pinB.getFrom().getOutPut()"
   ]
  },
  {
   "cell_type": "code",
   "execution_count": 17,
   "id": "557816ef",
   "metadata": {},
   "outputs": [
    {
     "data": {
      "text/plain": [
       "0"
      ]
     },
     "execution_count": 17,
     "metadata": {},
     "output_type": "execute_result"
    }
   ],
   "source": [
    "g2 = OrGate(\"G2\")\n",
    "g2.getOutPut()"
   ]
  },
  {
   "cell_type": "code",
   "execution_count": 6,
   "id": "5b4e117d",
   "metadata": {},
   "outputs": [],
   "source": [
    "class NotGate(UnaryGate):\n",
    "    def __init__(self, n) -> None:\n",
    "        super().__init__(n)\n",
    "    def performGateLogic(self):\n",
    "        a = self.getPin()\n",
    "        if a == 1 :\n",
    "            return 0 \n",
    "        else:\n",
    "            return 1\n",
    "    def setNextPin(self,source):\n",
    "        if self.pin == None:\n",
    "            self.pin = source\n",
    "        else:\n",
    "            raise RuntimeError(\"Error:no empty pins\")\n",
    "    def getPin(self):\n",
    "        if self.pin == None:\n",
    "            return int(input(\"ENTER PIN FOR GATE\" + \\\n",
    "                         self.getLabel() + \"-->\"))\n",
    "        else:\n",
    "            return self.pin.getFrom().getOutPut()"
   ]
  },
  {
   "cell_type": "code",
   "execution_count": null,
   "id": "88099777",
   "metadata": {},
   "outputs": [],
   "source": [
    "g3 = NotGate(\"G3\")\n",
    "g3.getOutPut()"
   ]
  },
  {
   "cell_type": "markdown",
   "id": "b7ffe053",
   "metadata": {},
   "source": [
    "将逻辑门链接在一起，使用Connector的新类。这个类并不在逻辑门的继承层次结构中，但会使用该结构，从而使得Connector的实例两端都有一个逻辑门。这种Connector-LogicGate的关系被称为HAS-A（是一个）。区分需要继承的IS-A和无须继承的HAS-A关系非常重要。"
   ]
  },
  {
   "cell_type": "code",
   "execution_count": 7,
   "id": "39787d8d",
   "metadata": {},
   "outputs": [],
   "source": [
    "class Connector:\n",
    "    def __init__(self,fgate,tgate) -> None:\n",
    "        self.fromgate = fgate\n",
    "        self.togate = tgate\n",
    "        tgate.setNextPin(self)\n",
    "    def getFrom(self):\n",
    "        return self.fromgate\n",
    "    def getTo(self):\n",
    "        return self.togate"
   ]
  },
  {
   "cell_type": "code",
   "execution_count": 10,
   "id": "5012be18",
   "metadata": {},
   "outputs": [],
   "source": [
    "g1 = AndGate(\"G1\")\n",
    "g2 = AndGate(\"G2\")\n",
    "g3 = OrGate(\"G3\")\n",
    "g4 = NotGate(\"G4\")\n",
    "c1 = Connector(g1,g3)\n",
    "c2 = Connector(g2,g3)\n",
    "c3 = Connector(g3,g4)"
   ]
  },
  {
   "cell_type": "code",
   "execution_count": 12,
   "id": "1f269bd6",
   "metadata": {},
   "outputs": [
    {
     "data": {
      "text/plain": [
       "1"
      ]
     },
     "execution_count": 12,
     "metadata": {},
     "output_type": "execute_result"
    }
   ],
   "source": [
    "g4.getOutPut()"
   ]
  },
  {
   "cell_type": "markdown",
   "id": "64363faf",
   "metadata": {},
   "source": [
    "这个电路就是图1-10。"
   ]
  }
 ],
 "metadata": {
  "interpreter": {
   "hash": "b3ba2566441a7c06988d0923437866b63cedc61552a5af99d1f4fb67d367b25f"
  },
  "kernelspec": {
   "display_name": "Python 3",
   "language": "python",
   "name": "python3"
  },
  "language_info": {
   "codemirror_mode": {
    "name": "ipython",
    "version": 3
   },
   "file_extension": ".py",
   "mimetype": "text/x-python",
   "name": "python",
   "nbconvert_exporter": "python",
   "pygments_lexer": "ipython3",
   "version": "3.8.8"
  }
 },
 "nbformat": 4,
 "nbformat_minor": 5
}
